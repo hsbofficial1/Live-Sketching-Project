{
 "cells": [
  {
   "cell_type": "code",
   "execution_count": null,
   "id": "f3f73a0f",
   "metadata": {
    "vscode": {
     "languageId": "plaintext"
    }
   },
   "outputs": [],
   "source": [
    "import keras\n",
    "import cv2\n",
    "import numpy as np\n",
    "import matplotlib\n",
    "print (cv2.__version__)\n",
    "import cv2\n",
    "import numpy as np\n"
   ]
  },
  {
   "cell_type": "code",
   "execution_count": null,
   "id": "65e4865b",
   "metadata": {
    "vscode": {
     "languageId": "plaintext"
    }
   },
   "outputs": [],
   "source": [
    "# Our sketch generating function\n",
    "def sketch(image):\n",
    "    # Convert image to grayscale\n",
    "    img_gray = cv2.cvtColor(image, cv2.COLOR_BGR2GRAY)\n",
    "    \n",
    "    # Clean up image using Guassian Blur\n",
    "    img_gray_blur = cv2.GaussianBlur(img_gray, (5,5), 0)\n",
    "    \n",
    "    # Extract edges\n",
    "    canny_edges = cv2.Canny(img_gray_blur, 20, 50)\n",
    "    \n",
    "    # Do an invert binarize the image \n",
    "    ret, mask = cv2.threshold(canny_edges, 70, 255, cv2.THRESH_BINARY_INV)\n",
    "    return mask\n",
    "\n",
    "\n",
    "# Initialize webcam, cap is the object provided by VideoCapture\n",
    "# It contains a boolean indicating if it was sucessful (ret)\n",
    "# It also contains the images collected from the webcam (frame)\n",
    "cap = cv2.VideoCapture(0)\n",
    "\n",
    "while True:\n",
    "    ret, frame = cap.read()\n",
    "    cv2.imshow('Our Live Sketcher', sketch(frame))\n",
    "    if cv2.waitKey(1) == 13: #13 is the Enter Key\n",
    "        break\n",
    "        \n",
    "# Release camera and close windows\n",
    "cap.release()\n",
    "cv2.destroyAllWindows()    "
   ]
  }
 ],
 "metadata": {
  "language_info": {
   "name": "python"
  }
 },
 "nbformat": 4,
 "nbformat_minor": 5
}
